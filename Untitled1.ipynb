{
  "nbformat": 4,
  "nbformat_minor": 0,
  "metadata": {
    "colab": {
      "name": "Untitled1.ipynb",
      "provenance": [],
      "authorship_tag": "ABX9TyNRwC36xMoNLsv87wh0ozeU",
      "include_colab_link": true
    },
    "kernelspec": {
      "name": "python3",
      "display_name": "Python 3"
    },
    "language_info": {
      "name": "python"
    }
  },
  "cells": [
    {
      "cell_type": "markdown",
      "metadata": {
        "id": "view-in-github",
        "colab_type": "text"
      },
      "source": [
        "<a href=\"https://colab.research.google.com/github/sebascaviglia/ANALISIS_FACTORIAL/blob/main/Untitled1.ipynb\" target=\"_parent\"><img src=\"https://colab.research.google.com/assets/colab-badge.svg\" alt=\"Open In Colab\"/></a>"
      ]
    },
    {
      "cell_type": "markdown",
      "metadata": {
        "id": "KbYu4vDJQVIC"
      },
      "source": [
        ""
      ]
    },
    {
      "cell_type": "code",
      "metadata": {
        "id": "gdJbG6fQQChs"
      },
      "source": [
        "# unesco \n",
        "\n",
        "import pandas as pd\n",
        "import matplotlib.pyplot as plt"
      ],
      "execution_count": 39,
      "outputs": []
    },
    {
      "cell_type": "code",
      "metadata": {
        "id": "o_0YSinkQTt6"
      },
      "source": [
        "data = pd.read_csv('https://en.unesco.org/sites/default/files/covid_impact_education.csv')\n",
        "categorias = data.groupby('Status').size().index.to_list()\n",
        "for c in categorias :\n",
        "  data[c] = data.Status == c"
      ],
      "execution_count": 40,
      "outputs": []
    },
    {
      "cell_type": "code",
      "metadata": {
        "colab": {
          "base_uri": "https://localhost:8080/",
          "height": 408
        },
        "id": "uzxS6sVDScj8",
        "outputId": "d5b63772-262a-4315-a89d-9b4ae7e64758"
      },
      "source": [
        "res = data.groupby('Country').sum().iloc[:,-3:]\n",
        "res['closed_p'] = res['Closed due to COVID-19'] \n",
        "res.closed_p.hist(bins=20, width=8, figsize=(12,6))\n",
        "plt.title('Unesco 210 paises, % de dias con colegios cerrados')\n",
        "\n"
      ],
      "execution_count": 46,
      "outputs": [
        {
          "output_type": "execute_result",
          "data": {
            "text/plain": [
              "Text(0.5, 1.0, 'Unesco 210 paises, % de dias con colegios cerrados')"
            ]
          },
          "metadata": {
            "tags": []
          },
          "execution_count": 46
        },
        {
          "output_type": "display_data",
          "data": {
            "image/png": "[encoded data removed]",
            "text/plain": [
              "<Figure size 864x432 with 1 Axes>"
            ]
          },
          "metadata": {
            "tags": [],
            "needs_background": "light"
          }
        }
      ]
    },
    {
      "cell_type": "code",
      "metadata": {
        "colab": {
          "base_uri": "https://localhost:8080/"
        },
        "id": "UySeOAhDWDyo",
        "outputId": "2eb88aa7-05ff-4989-f089-f022f7959674"
      },
      "source": [
        "peor_cuartil = (res.closed_p.quantile(0.75))\n",
        "peor_decil = (res.closed_p.quantile(0.9))\n",
        "peor_percentil = (res.closed_p.quantile(0.99))\n",
        "\n",
        "print(f'Colegios, peor cuartil, cerrados +{peor_cuartil:0%} de dias habiles')\n",
        "print(f'Colegios, peor decil, cerrados +{peor_decil:0%} de dias habiles')\n",
        "print(f'Colegios, peor percentil, cerrados +{peor_percentil:0%} de dias habiles')"
      ],
      "execution_count": 42,
      "outputs": [
        {
          "output_type": "stream",
          "text": [
            "Colegios, peor cuartil, cerrados +15650.000000% de dias habiles\n",
            "Colegios, peor decil, cerrados +22900.000000% de dias habiles\n",
            "Colegios, peor percentil, cerrados +33655.000000% de dias habiles\n"
          ],
          "name": "stdout"
        }
      ]
    }
  ]
}